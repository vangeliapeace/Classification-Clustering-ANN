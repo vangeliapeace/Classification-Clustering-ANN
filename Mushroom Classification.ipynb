{
 "cells": [
  {
   "cell_type": "code",
   "metadata": {
    "colab": {
     "base_uri": "https://localhost:8080/"
    },
    "id": "jKVF5ZWA9zxS",
    "outputId": "f49fee71-8e84-49e7-adf6-e682d2ab9711",
    "deepnote_to_be_reexecuted": false,
    "source_hash": "7735190f",
    "execution_start": 1635359708342,
    "execution_millis": 4395,
    "cell_id": "00000-5396ebed-088f-4158-8c90-e220f8e10bd9",
    "deepnote_cell_type": "code"
   },
   "source": "!pip install --upgrade tensorflow==1.15",
   "execution_count": 1,
   "outputs": [
    {
     "name": "stdout",
     "text": "Requirement already satisfied: tensorflow==1.15 in /root/venv/lib/python3.7/site-packages (1.15.0)\nRequirement already satisfied: tensorboard<1.16.0,>=1.15.0 in /root/venv/lib/python3.7/site-packages (from tensorflow==1.15) (1.15.0)\nRequirement already satisfied: grpcio>=1.8.6 in /shared-libs/python3.7/py/lib/python3.7/site-packages (from tensorflow==1.15) (1.32.0)\nRequirement already satisfied: keras-applications>=1.0.8 in /root/venv/lib/python3.7/site-packages (from tensorflow==1.15) (1.0.8)\nRequirement already satisfied: numpy<2.0,>=1.16.0 in /shared-libs/python3.7/py/lib/python3.7/site-packages (from tensorflow==1.15) (1.19.5)\nRequirement already satisfied: keras-preprocessing>=1.0.5 in /shared-libs/python3.7/py/lib/python3.7/site-packages (from tensorflow==1.15) (1.1.2)\nRequirement already satisfied: gast==0.2.2 in /root/venv/lib/python3.7/site-packages (from tensorflow==1.15) (0.2.2)\nRequirement already satisfied: tensorflow-estimator==1.15.1 in /root/venv/lib/python3.7/site-packages (from tensorflow==1.15) (1.15.1)\nRequirement already satisfied: protobuf>=3.6.1 in /shared-libs/python3.7/py/lib/python3.7/site-packages (from tensorflow==1.15) (3.17.3)\nRequirement already satisfied: absl-py>=0.7.0 in /shared-libs/python3.7/py/lib/python3.7/site-packages (from tensorflow==1.15) (0.14.1)\nRequirement already satisfied: astor>=0.6.0 in /root/venv/lib/python3.7/site-packages (from tensorflow==1.15) (0.8.1)\nRequirement already satisfied: six>=1.10.0 in /shared-libs/python3.7/py-core/lib/python3.7/site-packages (from tensorflow==1.15) (1.16.0)\nRequirement already satisfied: opt-einsum>=2.3.2 in /shared-libs/python3.7/py/lib/python3.7/site-packages (from tensorflow==1.15) (3.3.0)\nRequirement already satisfied: google-pasta>=0.1.6 in /shared-libs/python3.7/py/lib/python3.7/site-packages (from tensorflow==1.15) (0.2.0)\nRequirement already satisfied: termcolor>=1.1.0 in /shared-libs/python3.7/py/lib/python3.7/site-packages (from tensorflow==1.15) (1.1.0)\nRequirement already satisfied: wheel>=0.26 in /root/venv/lib/python3.7/site-packages (from tensorflow==1.15) (0.37.0)\nRequirement already satisfied: wrapt>=1.11.1 in /shared-libs/python3.7/py/lib/python3.7/site-packages (from tensorflow==1.15) (1.12.1)\nRequirement already satisfied: h5py in /shared-libs/python3.7/py/lib/python3.7/site-packages (from keras-applications>=1.0.8->tensorflow==1.15) (2.10.0)\nRequirement already satisfied: werkzeug>=0.11.15 in /shared-libs/python3.7/py/lib/python3.7/site-packages (from tensorboard<1.16.0,>=1.15.0->tensorflow==1.15) (2.0.2)\nRequirement already satisfied: markdown>=2.6.8 in /shared-libs/python3.7/py/lib/python3.7/site-packages (from tensorboard<1.16.0,>=1.15.0->tensorflow==1.15) (3.3.4)\nRequirement already satisfied: setuptools>=41.0.0 in /root/venv/lib/python3.7/site-packages (from tensorboard<1.16.0,>=1.15.0->tensorflow==1.15) (58.1.0)\nRequirement already satisfied: importlib-metadata in /shared-libs/python3.7/py-core/lib/python3.7/site-packages (from markdown>=2.6.8->tensorboard<1.16.0,>=1.15.0->tensorflow==1.15) (4.8.1)\nRequirement already satisfied: typing-extensions>=3.6.4 in /shared-libs/python3.7/py-core/lib/python3.7/site-packages (from importlib-metadata->markdown>=2.6.8->tensorboard<1.16.0,>=1.15.0->tensorflow==1.15) (3.10.0.2)\nRequirement already satisfied: zipp>=0.5 in /shared-libs/python3.7/py-core/lib/python3.7/site-packages (from importlib-metadata->markdown>=2.6.8->tensorboard<1.16.0,>=1.15.0->tensorflow==1.15) (3.6.0)\n\u001b[33mWARNING: You are using pip version 21.2.4; however, version 21.3.1 is available.\nYou should consider upgrading via the '/root/venv/bin/python -m pip install --upgrade pip' command.\u001b[0m\n",
     "output_type": "stream"
    }
   ]
  },
  {
   "cell_type": "markdown",
   "source": "## **IMPORT LIBRARY**",
   "metadata": {
    "id": "7Ijcik0K2jJG",
    "cell_id": "00001-43548d2d-9bd7-4c29-b45d-f91dd1a35dc7",
    "deepnote_cell_type": "markdown"
   }
  },
  {
   "cell_type": "code",
   "metadata": {
    "id": "BImY9K_pJNIy",
    "deepnote_to_be_reexecuted": false,
    "source_hash": "8e8e01b4",
    "execution_start": 1635359712745,
    "execution_millis": 2644,
    "cell_id": "00002-eeb552e6-39ac-467d-b5c4-07f32024a629",
    "deepnote_cell_type": "code"
   },
   "source": "import tensorflow as tf\nimport matplotlib.pyplot as plt\nimport numpy as np\nimport pandas as pd\nfrom sklearn.preprocessing import OneHotEncoder, StandardScaler\nfrom sklearn.model_selection import train_test_split",
   "execution_count": 2,
   "outputs": []
  },
  {
   "cell_type": "markdown",
   "source": "## **IMPORT DATASET**",
   "metadata": {
    "id": "CwLlFG9o2tHa",
    "cell_id": "00003-57007b33-a1f3-43d4-bc29-4bb7dc81938f",
    "deepnote_cell_type": "markdown"
   }
  },
  {
   "cell_type": "code",
   "metadata": {
    "colab": {
     "base_uri": "https://localhost:8080/",
     "height": 427
    },
    "id": "xd8AJ3du0sY5",
    "outputId": "3a1ad00e-c50f-4c26-9b3e-cc3782e992d8",
    "deepnote_to_be_reexecuted": false,
    "source_hash": "c85b3ac4",
    "execution_start": 1635359715398,
    "execution_millis": 113,
    "cell_id": "00004-4e8d92d1-68dd-49d3-8516-efb1e5fe2567",
    "deepnote_cell_type": "code"
   },
   "source": "df = pd.read_csv(\"classification.csv\")\ndf.head(10)",
   "execution_count": 3,
   "outputs": [
    {
     "output_type": "execute_result",
     "execution_count": 3,
     "data": {
      "application/vnd.deepnote.dataframe.v2+json": {
       "row_count": 10,
       "column_count": 19,
       "columns": [
        {
         "name": "class",
         "dtype": "object",
         "stats": {
          "unique_count": 2,
          "nan_count": 0,
          "categories": [
           {
            "name": "e",
            "count": 7
           },
           {
            "name": "p",
            "count": 3
           }
          ]
         }
        },
        {
         "name": "cap-shape",
         "dtype": "object",
         "stats": {
          "unique_count": 2,
          "nan_count": 0,
          "categories": [
           {
            "name": "x",
            "count": 6
           },
           {
            "name": "b",
            "count": 4
           }
          ]
         }
        },
        {
         "name": "cap-surface",
         "dtype": "object",
         "stats": {
          "unique_count": 2,
          "nan_count": 0,
          "categories": [
           {
            "name": "s",
            "count": 6
           },
           {
            "name": "y",
            "count": 4
           }
          ]
         }
        },
        {
         "name": "cap-color",
         "dtype": "int64",
         "stats": {
          "unique_count": 4,
          "nan_count": 0,
          "min": "3",
          "max": "9",
          "histogram": [
           {
            "bin_start": 3,
            "bin_end": 3.6,
            "count": 1
           },
           {
            "bin_start": 3.6,
            "bin_end": 4.2,
            "count": 1
           },
           {
            "bin_start": 4.2,
            "bin_end": 4.8,
            "count": 0
           },
           {
            "bin_start": 4.8,
            "bin_end": 5.4,
            "count": 0
           },
           {
            "bin_start": 5.4,
            "bin_end": 6,
            "count": 0
           },
           {
            "bin_start": 6,
            "bin_end": 6.6,
            "count": 0
           },
           {
            "bin_start": 6.6,
            "bin_end": 7.2,
            "count": 0
           },
           {
            "bin_start": 7.2,
            "bin_end": 7.8,
            "count": 0
           },
           {
            "bin_start": 7.8,
            "bin_end": 8.399999999999999,
            "count": 5
           },
           {
            "bin_start": 8.399999999999999,
            "bin_end": 9,
            "count": 3
           }
          ]
         }
        },
        {
         "name": "bruises",
         "dtype": "int64",
         "stats": {
          "unique_count": 2,
          "nan_count": 0,
          "min": "0",
          "max": "1",
          "histogram": [
           {
            "bin_start": 0,
            "bin_end": 0.1,
            "count": 1
           },
           {
            "bin_start": 0.1,
            "bin_end": 0.2,
            "count": 0
           },
           {
            "bin_start": 0.2,
            "bin_end": 0.30000000000000004,
            "count": 0
           },
           {
            "bin_start": 0.30000000000000004,
            "bin_end": 0.4,
            "count": 0
           },
           {
            "bin_start": 0.4,
            "bin_end": 0.5,
            "count": 0
           },
           {
            "bin_start": 0.5,
            "bin_end": 0.6000000000000001,
            "count": 0
           },
           {
            "bin_start": 0.6000000000000001,
            "bin_end": 0.7000000000000001,
            "count": 0
           },
           {
            "bin_start": 0.7000000000000001,
            "bin_end": 0.8,
            "count": 0
           },
           {
            "bin_start": 0.8,
            "bin_end": 0.9,
            "count": 0
           },
           {
            "bin_start": 0.9,
            "bin_end": 1,
            "count": 9
           }
          ]
         }
        },
        {
         "name": "odor",
         "dtype": "object",
         "stats": {
          "unique_count": 4,
          "nan_count": 0,
          "categories": [
           {
            "name": "a",
            "count": 4
           },
           {
            "name": "p",
            "count": 3
           },
           {
            "name": "2 others",
            "count": 3
           }
          ]
         }
        },
        {
         "name": "stalk-shape",
         "dtype": "object",
         "stats": {
          "unique_count": 2,
          "nan_count": 0,
          "categories": [
           {
            "name": "e",
            "count": 9
           },
           {
            "name": "t",
            "count": 1
           }
          ]
         }
        },
        {
         "name": "stalk-root",
         "dtype": "int64",
         "stats": {
          "unique_count": 2,
          "nan_count": 0,
          "min": "2",
          "max": "3",
          "histogram": [
           {
            "bin_start": 2,
            "bin_end": 2.1,
            "count": 6
           },
           {
            "bin_start": 2.1,
            "bin_end": 2.2,
            "count": 0
           },
           {
            "bin_start": 2.2,
            "bin_end": 2.3,
            "count": 0
           },
           {
            "bin_start": 2.3,
            "bin_end": 2.4,
            "count": 0
           },
           {
            "bin_start": 2.4,
            "bin_end": 2.5,
            "count": 0
           },
           {
            "bin_start": 2.5,
            "bin_end": 2.6,
            "count": 0
           },
           {
            "bin_start": 2.6,
            "bin_end": 2.7,
            "count": 0
           },
           {
            "bin_start": 2.7,
            "bin_end": 2.8,
            "count": 0
           },
           {
            "bin_start": 2.8,
            "bin_end": 2.9,
            "count": 0
           },
           {
            "bin_start": 2.9,
            "bin_end": 3,
            "count": 4
           }
          ]
         }
        },
        {
         "name": "stalk-surface-above-ring",
         "dtype": "int64",
         "stats": {
          "unique_count": 1,
          "nan_count": 0,
          "min": "2",
          "max": "2",
          "histogram": [
           {
            "bin_start": 1.5,
            "bin_end": 1.6,
            "count": 0
           },
           {
            "bin_start": 1.6,
            "bin_end": 1.7,
            "count": 0
           },
           {
            "bin_start": 1.7,
            "bin_end": 1.8,
            "count": 0
           },
           {
            "bin_start": 1.8,
            "bin_end": 1.9,
            "count": 0
           },
           {
            "bin_start": 1.9,
            "bin_end": 2,
            "count": 0
           },
           {
            "bin_start": 2,
            "bin_end": 2.1,
            "count": 10
           },
           {
            "bin_start": 2.1,
            "bin_end": 2.2,
            "count": 0
           },
           {
            "bin_start": 2.2,
            "bin_end": 2.3,
            "count": 0
           },
           {
            "bin_start": 2.3,
            "bin_end": 2.4,
            "count": 0
           },
           {
            "bin_start": 2.4,
            "bin_end": 2.5,
            "count": 0
           }
          ]
         }
        },
        {
         "name": "stalk-surface-below-ring",
         "dtype": "int64",
         "stats": {
          "unique_count": 1,
          "nan_count": 0,
          "min": "2",
          "max": "2",
          "histogram": [
           {
            "bin_start": 1.5,
            "bin_end": 1.6,
            "count": 0
           },
           {
            "bin_start": 1.6,
            "bin_end": 1.7,
            "count": 0
           },
           {
            "bin_start": 1.7,
            "bin_end": 1.8,
            "count": 0
           },
           {
            "bin_start": 1.8,
            "bin_end": 1.9,
            "count": 0
           },
           {
            "bin_start": 1.9,
            "bin_end": 2,
            "count": 0
           },
           {
            "bin_start": 2,
            "bin_end": 2.1,
            "count": 10
           },
           {
            "bin_start": 2.1,
            "bin_end": 2.2,
            "count": 0
           },
           {
            "bin_start": 2.2,
            "bin_end": 2.3,
            "count": 0
           },
           {
            "bin_start": 2.3,
            "bin_end": 2.4,
            "count": 0
           },
           {
            "bin_start": 2.4,
            "bin_end": 2.5,
            "count": 0
           }
          ]
         }
        },
        {
         "name": "stalk-color-above-ring",
         "dtype": "int64",
         "stats": {
          "unique_count": 1,
          "nan_count": 0,
          "min": "7",
          "max": "7",
          "histogram": [
           {
            "bin_start": 6.5,
            "bin_end": 6.6,
            "count": 0
           },
           {
            "bin_start": 6.6,
            "bin_end": 6.7,
            "count": 0
           },
           {
            "bin_start": 6.7,
            "bin_end": 6.8,
            "count": 0
           },
           {
            "bin_start": 6.8,
            "bin_end": 6.9,
            "count": 0
           },
           {
            "bin_start": 6.9,
            "bin_end": 7,
            "count": 0
           },
           {
            "bin_start": 7,
            "bin_end": 7.1,
            "count": 10
           },
           {
            "bin_start": 7.1,
            "bin_end": 7.2,
            "count": 0
           },
           {
            "bin_start": 7.2,
            "bin_end": 7.3,
            "count": 0
           },
           {
            "bin_start": 7.3,
            "bin_end": 7.4,
            "count": 0
           },
           {
            "bin_start": 7.4,
            "bin_end": 7.5,
            "count": 0
           }
          ]
         }
        },
        {
         "name": "stalk-color-below-ring",
         "dtype": "int64",
         "stats": {
          "unique_count": 1,
          "nan_count": 0,
          "min": "7",
          "max": "7",
          "histogram": [
           {
            "bin_start": 6.5,
            "bin_end": 6.6,
            "count": 0
           },
           {
            "bin_start": 6.6,
            "bin_end": 6.7,
            "count": 0
           },
           {
            "bin_start": 6.7,
            "bin_end": 6.8,
            "count": 0
           },
           {
            "bin_start": 6.8,
            "bin_end": 6.9,
            "count": 0
           },
           {
            "bin_start": 6.9,
            "bin_end": 7,
            "count": 0
           },
           {
            "bin_start": 7,
            "bin_end": 7.1,
            "count": 10
           },
           {
            "bin_start": 7.1,
            "bin_end": 7.2,
            "count": 0
           },
           {
            "bin_start": 7.2,
            "bin_end": 7.3,
            "count": 0
           },
           {
            "bin_start": 7.3,
            "bin_end": 7.4,
            "count": 0
           },
           {
            "bin_start": 7.4,
            "bin_end": 7.5,
            "count": 0
           }
          ]
         }
        },
        {
         "name": "veil-type",
         "dtype": "object",
         "stats": {
          "unique_count": 1,
          "nan_count": 0,
          "categories": [
           {
            "name": "p",
            "count": 10
           }
          ]
         }
        },
        {
         "name": "veil-color",
         "dtype": "int64",
         "stats": {
          "unique_count": 1,
          "nan_count": 0,
          "min": "2",
          "max": "2",
          "histogram": [
           {
            "bin_start": 1.5,
            "bin_end": 1.6,
            "count": 0
           },
           {
            "bin_start": 1.6,
            "bin_end": 1.7,
            "count": 0
           },
           {
            "bin_start": 1.7,
            "bin_end": 1.8,
            "count": 0
           },
           {
            "bin_start": 1.8,
            "bin_end": 1.9,
            "count": 0
           },
           {
            "bin_start": 1.9,
            "bin_end": 2,
            "count": 0
           },
           {
            "bin_start": 2,
            "bin_end": 2.1,
            "count": 10
           },
           {
            "bin_start": 2.1,
            "bin_end": 2.2,
            "count": 0
           },
           {
            "bin_start": 2.2,
            "bin_end": 2.3,
            "count": 0
           },
           {
            "bin_start": 2.3,
            "bin_end": 2.4,
            "count": 0
           },
           {
            "bin_start": 2.4,
            "bin_end": 2.5,
            "count": 0
           }
          ]
         }
        },
        {
         "name": "ring-number",
         "dtype": "int64",
         "stats": {
          "unique_count": 1,
          "nan_count": 0,
          "min": "1",
          "max": "1",
          "histogram": [
           {
            "bin_start": 0.5,
            "bin_end": 0.6,
            "count": 0
           },
           {
            "bin_start": 0.6,
            "bin_end": 0.7,
            "count": 0
           },
           {
            "bin_start": 0.7,
            "bin_end": 0.8,
            "count": 0
           },
           {
            "bin_start": 0.8,
            "bin_end": 0.9,
            "count": 0
           },
           {
            "bin_start": 0.9,
            "bin_end": 1,
            "count": 0
           },
           {
            "bin_start": 1,
            "bin_end": 1.1,
            "count": 10
           },
           {
            "bin_start": 1.1,
            "bin_end": 1.2000000000000002,
            "count": 0
           },
           {
            "bin_start": 1.2000000000000002,
            "bin_end": 1.3,
            "count": 0
           },
           {
            "bin_start": 1.3,
            "bin_end": 1.4,
            "count": 0
           },
           {
            "bin_start": 1.4,
            "bin_end": 1.5,
            "count": 0
           }
          ]
         }
        },
        {
         "name": "ring-type",
         "dtype": "int64",
         "stats": {
          "unique_count": 2,
          "nan_count": 0,
          "min": "0",
          "max": "4",
          "histogram": [
           {
            "bin_start": 0,
            "bin_end": 0.4,
            "count": 1
           },
           {
            "bin_start": 0.4,
            "bin_end": 0.8,
            "count": 0
           },
           {
            "bin_start": 0.8,
            "bin_end": 1.2000000000000002,
            "count": 0
           },
           {
            "bin_start": 1.2000000000000002,
            "bin_end": 1.6,
            "count": 0
           },
           {
            "bin_start": 1.6,
            "bin_end": 2,
            "count": 0
           },
           {
            "bin_start": 2,
            "bin_end": 2.4000000000000004,
            "count": 0
           },
           {
            "bin_start": 2.4000000000000004,
            "bin_end": 2.8000000000000003,
            "count": 0
           },
           {
            "bin_start": 2.8000000000000003,
            "bin_end": 3.2,
            "count": 0
           },
           {
            "bin_start": 3.2,
            "bin_end": 3.6,
            "count": 0
           },
           {
            "bin_start": 3.6,
            "bin_end": 4,
            "count": 9
           }
          ]
         }
        },
        {
         "name": "spore-print-color",
         "dtype": "int64",
         "stats": {
          "unique_count": 2,
          "nan_count": 0,
          "min": "2",
          "max": "3",
          "histogram": [
           {
            "bin_start": 2,
            "bin_end": 2.1,
            "count": 6
           },
           {
            "bin_start": 2.1,
            "bin_end": 2.2,
            "count": 0
           },
           {
            "bin_start": 2.2,
            "bin_end": 2.3,
            "count": 0
           },
           {
            "bin_start": 2.3,
            "bin_end": 2.4,
            "count": 0
           },
           {
            "bin_start": 2.4,
            "bin_end": 2.5,
            "count": 0
           },
           {
            "bin_start": 2.5,
            "bin_end": 2.6,
            "count": 0
           },
           {
            "bin_start": 2.6,
            "bin_end": 2.7,
            "count": 0
           },
           {
            "bin_start": 2.7,
            "bin_end": 2.8,
            "count": 0
           },
           {
            "bin_start": 2.8,
            "bin_end": 2.9,
            "count": 0
           },
           {
            "bin_start": 2.9,
            "bin_end": 3,
            "count": 4
           }
          ]
         }
        },
        {
         "name": "population",
         "dtype": "object",
         "stats": {
          "unique_count": 4,
          "nan_count": 0,
          "categories": [
           {
            "name": "s",
            "count": 4
           },
           {
            "name": "n",
            "count": 4
           },
           {
            "name": "2 others",
            "count": 2
           }
          ]
         }
        },
        {
         "name": "habitat",
         "dtype": "object",
         "stats": {
          "unique_count": 3,
          "nan_count": 0,
          "categories": [
           {
            "name": "g",
            "count": 4
           },
           {
            "name": "m",
            "count": 4
           },
           {
            "name": "u",
            "count": 2
           }
          ]
         }
        },
        {
         "name": "_deepnote_index_column",
         "dtype": "int64"
        }
       ],
       "rows_top": [
        {
         "class": "p",
         "cap-shape": "x",
         "cap-surface": "s",
         "cap-color": 4,
         "bruises": 1,
         "odor": "p",
         "stalk-shape": "e",
         "stalk-root": 3,
         "stalk-surface-above-ring": 2,
         "stalk-surface-below-ring": 2,
         "stalk-color-above-ring": 7,
         "stalk-color-below-ring": 7,
         "veil-type": "p",
         "veil-color": 2,
         "ring-number": 1,
         "ring-type": 4,
         "spore-print-color": 2,
         "population": "s",
         "habitat": "u",
         "_deepnote_index_column": 0
        },
        {
         "class": "e",
         "cap-shape": "x",
         "cap-surface": "s",
         "cap-color": 9,
         "bruises": 1,
         "odor": "a",
         "stalk-shape": "e",
         "stalk-root": 2,
         "stalk-surface-above-ring": 2,
         "stalk-surface-below-ring": 2,
         "stalk-color-above-ring": 7,
         "stalk-color-below-ring": 7,
         "veil-type": "p",
         "veil-color": 2,
         "ring-number": 1,
         "ring-type": 4,
         "spore-print-color": 3,
         "population": "n",
         "habitat": "g",
         "_deepnote_index_column": 1
        },
        {
         "class": "e",
         "cap-shape": "b",
         "cap-surface": "s",
         "cap-color": 8,
         "bruises": 1,
         "odor": "l",
         "stalk-shape": "e",
         "stalk-root": 2,
         "stalk-surface-above-ring": 2,
         "stalk-surface-below-ring": 2,
         "stalk-color-above-ring": 7,
         "stalk-color-below-ring": 7,
         "veil-type": "p",
         "veil-color": 2,
         "ring-number": 1,
         "ring-type": 4,
         "spore-print-color": 3,
         "population": "n",
         "habitat": "m",
         "_deepnote_index_column": 2
        },
        {
         "class": "p",
         "cap-shape": "x",
         "cap-surface": "y",
         "cap-color": 8,
         "bruises": 1,
         "odor": "p",
         "stalk-shape": "e",
         "stalk-root": 3,
         "stalk-surface-above-ring": 2,
         "stalk-surface-below-ring": 2,
         "stalk-color-above-ring": 7,
         "stalk-color-below-ring": 7,
         "veil-type": "p",
         "veil-color": 2,
         "ring-number": 1,
         "ring-type": 4,
         "spore-print-color": 2,
         "population": "s",
         "habitat": "u",
         "_deepnote_index_column": 3
        },
        {
         "class": "e",
         "cap-shape": "x",
         "cap-surface": "s",
         "cap-color": 3,
         "bruises": 0,
         "odor": "n",
         "stalk-shape": "t",
         "stalk-root": 3,
         "stalk-surface-above-ring": 2,
         "stalk-surface-below-ring": 2,
         "stalk-color-above-ring": 7,
         "stalk-color-below-ring": 7,
         "veil-type": "p",
         "veil-color": 2,
         "ring-number": 1,
         "ring-type": 0,
         "spore-print-color": 3,
         "population": "a",
         "habitat": "g",
         "_deepnote_index_column": 4
        },
        {
         "class": "e",
         "cap-shape": "x",
         "cap-surface": "y",
         "cap-color": 9,
         "bruises": 1,
         "odor": "a",
         "stalk-shape": "e",
         "stalk-root": 2,
         "stalk-surface-above-ring": 2,
         "stalk-surface-below-ring": 2,
         "stalk-color-above-ring": 7,
         "stalk-color-below-ring": 7,
         "veil-type": "p",
         "veil-color": 2,
         "ring-number": 1,
         "ring-type": 4,
         "spore-print-color": 2,
         "population": "n",
         "habitat": "g",
         "_deepnote_index_column": 5
        },
        {
         "class": "e",
         "cap-shape": "b",
         "cap-surface": "s",
         "cap-color": 8,
         "bruises": 1,
         "odor": "a",
         "stalk-shape": "e",
         "stalk-root": 2,
         "stalk-surface-above-ring": 2,
         "stalk-surface-below-ring": 2,
         "stalk-color-above-ring": 7,
         "stalk-color-below-ring": 7,
         "veil-type": "p",
         "veil-color": 2,
         "ring-number": 1,
         "ring-type": 4,
         "spore-print-color": 2,
         "population": "n",
         "habitat": "m",
         "_deepnote_index_column": 6
        },
        {
         "class": "e",
         "cap-shape": "b",
         "cap-surface": "y",
         "cap-color": 8,
         "bruises": 1,
         "odor": "l",
         "stalk-shape": "e",
         "stalk-root": 2,
         "stalk-surface-above-ring": 2,
         "stalk-surface-below-ring": 2,
         "stalk-color-above-ring": 7,
         "stalk-color-below-ring": 7,
         "veil-type": "p",
         "veil-color": 2,
         "ring-number": 1,
         "ring-type": 4,
         "spore-print-color": 3,
         "population": "s",
         "habitat": "m",
         "_deepnote_index_column": 7
        },
        {
         "class": "p",
         "cap-shape": "x",
         "cap-surface": "y",
         "cap-color": 8,
         "bruises": 1,
         "odor": "p",
         "stalk-shape": "e",
         "stalk-root": 3,
         "stalk-surface-above-ring": 2,
         "stalk-surface-below-ring": 2,
         "stalk-color-above-ring": 7,
         "stalk-color-below-ring": 7,
         "veil-type": "p",
         "veil-color": 2,
         "ring-number": 1,
         "ring-type": 4,
         "spore-print-color": 2,
         "population": "v",
         "habitat": "g",
         "_deepnote_index_column": 8
        },
        {
         "class": "e",
         "cap-shape": "b",
         "cap-surface": "s",
         "cap-color": 9,
         "bruises": 1,
         "odor": "a",
         "stalk-shape": "e",
         "stalk-root": 2,
         "stalk-surface-above-ring": 2,
         "stalk-surface-below-ring": 2,
         "stalk-color-above-ring": 7,
         "stalk-color-below-ring": 7,
         "veil-type": "p",
         "veil-color": 2,
         "ring-number": 1,
         "ring-type": 4,
         "spore-print-color": 2,
         "population": "s",
         "habitat": "m",
         "_deepnote_index_column": 9
        }
       ],
       "rows_bottom": null
      },
      "text/plain": "  class cap-shape cap-surface  cap-color  bruises odor stalk-shape  \\\n0     p         x           s          4        1    p           e   \n1     e         x           s          9        1    a           e   \n2     e         b           s          8        1    l           e   \n3     p         x           y          8        1    p           e   \n4     e         x           s          3        0    n           t   \n5     e         x           y          9        1    a           e   \n6     e         b           s          8        1    a           e   \n7     e         b           y          8        1    l           e   \n8     p         x           y          8        1    p           e   \n9     e         b           s          9        1    a           e   \n\n   stalk-root  stalk-surface-above-ring  stalk-surface-below-ring  \\\n0           3                         2                         2   \n1           2                         2                         2   \n2           2                         2                         2   \n3           3                         2                         2   \n4           3                         2                         2   \n5           2                         2                         2   \n6           2                         2                         2   \n7           2                         2                         2   \n8           3                         2                         2   \n9           2                         2                         2   \n\n   stalk-color-above-ring  stalk-color-below-ring veil-type  veil-color  \\\n0                       7                       7         p           2   \n1                       7                       7         p           2   \n2                       7                       7         p           2   \n3                       7                       7         p           2   \n4                       7                       7         p           2   \n5                       7                       7         p           2   \n6                       7                       7         p           2   \n7                       7                       7         p           2   \n8                       7                       7         p           2   \n9                       7                       7         p           2   \n\n   ring-number  ring-type  spore-print-color population habitat  \n0            1          4                  2          s       u  \n1            1          4                  3          n       g  \n2            1          4                  3          n       m  \n3            1          4                  2          s       u  \n4            1          0                  3          a       g  \n5            1          4                  2          n       g  \n6            1          4                  2          n       m  \n7            1          4                  3          s       m  \n8            1          4                  2          v       g  \n9            1          4                  2          s       m  ",
      "text/html": "<div>\n<style scoped>\n    .dataframe tbody tr th:only-of-type {\n        vertical-align: middle;\n    }\n\n    .dataframe tbody tr th {\n        vertical-align: top;\n    }\n\n    .dataframe thead th {\n        text-align: right;\n    }\n</style>\n<table border=\"1\" class=\"dataframe\">\n  <thead>\n    <tr style=\"text-align: right;\">\n      <th></th>\n      <th>class</th>\n      <th>cap-shape</th>\n      <th>cap-surface</th>\n      <th>cap-color</th>\n      <th>bruises</th>\n      <th>odor</th>\n      <th>stalk-shape</th>\n      <th>stalk-root</th>\n      <th>stalk-surface-above-ring</th>\n      <th>stalk-surface-below-ring</th>\n      <th>stalk-color-above-ring</th>\n      <th>stalk-color-below-ring</th>\n      <th>veil-type</th>\n      <th>veil-color</th>\n      <th>ring-number</th>\n      <th>ring-type</th>\n      <th>spore-print-color</th>\n      <th>population</th>\n      <th>habitat</th>\n    </tr>\n  </thead>\n  <tbody>\n    <tr>\n      <th>0</th>\n      <td>p</td>\n      <td>x</td>\n      <td>s</td>\n      <td>4</td>\n      <td>1</td>\n      <td>p</td>\n      <td>e</td>\n      <td>3</td>\n      <td>2</td>\n      <td>2</td>\n      <td>7</td>\n      <td>7</td>\n      <td>p</td>\n      <td>2</td>\n      <td>1</td>\n      <td>4</td>\n      <td>2</td>\n      <td>s</td>\n      <td>u</td>\n    </tr>\n    <tr>\n      <th>1</th>\n      <td>e</td>\n      <td>x</td>\n      <td>s</td>\n      <td>9</td>\n      <td>1</td>\n      <td>a</td>\n      <td>e</td>\n      <td>2</td>\n      <td>2</td>\n      <td>2</td>\n      <td>7</td>\n      <td>7</td>\n      <td>p</td>\n      <td>2</td>\n      <td>1</td>\n      <td>4</td>\n      <td>3</td>\n      <td>n</td>\n      <td>g</td>\n    </tr>\n    <tr>\n      <th>2</th>\n      <td>e</td>\n      <td>b</td>\n      <td>s</td>\n      <td>8</td>\n      <td>1</td>\n      <td>l</td>\n      <td>e</td>\n      <td>2</td>\n      <td>2</td>\n      <td>2</td>\n      <td>7</td>\n      <td>7</td>\n      <td>p</td>\n      <td>2</td>\n      <td>1</td>\n      <td>4</td>\n      <td>3</td>\n      <td>n</td>\n      <td>m</td>\n    </tr>\n    <tr>\n      <th>3</th>\n      <td>p</td>\n      <td>x</td>\n      <td>y</td>\n      <td>8</td>\n      <td>1</td>\n      <td>p</td>\n      <td>e</td>\n      <td>3</td>\n      <td>2</td>\n      <td>2</td>\n      <td>7</td>\n      <td>7</td>\n      <td>p</td>\n      <td>2</td>\n      <td>1</td>\n      <td>4</td>\n      <td>2</td>\n      <td>s</td>\n      <td>u</td>\n    </tr>\n    <tr>\n      <th>4</th>\n      <td>e</td>\n      <td>x</td>\n      <td>s</td>\n      <td>3</td>\n      <td>0</td>\n      <td>n</td>\n      <td>t</td>\n      <td>3</td>\n      <td>2</td>\n      <td>2</td>\n      <td>7</td>\n      <td>7</td>\n      <td>p</td>\n      <td>2</td>\n      <td>1</td>\n      <td>0</td>\n      <td>3</td>\n      <td>a</td>\n      <td>g</td>\n    </tr>\n    <tr>\n      <th>5</th>\n      <td>e</td>\n      <td>x</td>\n      <td>y</td>\n      <td>9</td>\n      <td>1</td>\n      <td>a</td>\n      <td>e</td>\n      <td>2</td>\n      <td>2</td>\n      <td>2</td>\n      <td>7</td>\n      <td>7</td>\n      <td>p</td>\n      <td>2</td>\n      <td>1</td>\n      <td>4</td>\n      <td>2</td>\n      <td>n</td>\n      <td>g</td>\n    </tr>\n    <tr>\n      <th>6</th>\n      <td>e</td>\n      <td>b</td>\n      <td>s</td>\n      <td>8</td>\n      <td>1</td>\n      <td>a</td>\n      <td>e</td>\n      <td>2</td>\n      <td>2</td>\n      <td>2</td>\n      <td>7</td>\n      <td>7</td>\n      <td>p</td>\n      <td>2</td>\n      <td>1</td>\n      <td>4</td>\n      <td>2</td>\n      <td>n</td>\n      <td>m</td>\n    </tr>\n    <tr>\n      <th>7</th>\n      <td>e</td>\n      <td>b</td>\n      <td>y</td>\n      <td>8</td>\n      <td>1</td>\n      <td>l</td>\n      <td>e</td>\n      <td>2</td>\n      <td>2</td>\n      <td>2</td>\n      <td>7</td>\n      <td>7</td>\n      <td>p</td>\n      <td>2</td>\n      <td>1</td>\n      <td>4</td>\n      <td>3</td>\n      <td>s</td>\n      <td>m</td>\n    </tr>\n    <tr>\n      <th>8</th>\n      <td>p</td>\n      <td>x</td>\n      <td>y</td>\n      <td>8</td>\n      <td>1</td>\n      <td>p</td>\n      <td>e</td>\n      <td>3</td>\n      <td>2</td>\n      <td>2</td>\n      <td>7</td>\n      <td>7</td>\n      <td>p</td>\n      <td>2</td>\n      <td>1</td>\n      <td>4</td>\n      <td>2</td>\n      <td>v</td>\n      <td>g</td>\n    </tr>\n    <tr>\n      <th>9</th>\n      <td>e</td>\n      <td>b</td>\n      <td>s</td>\n      <td>9</td>\n      <td>1</td>\n      <td>a</td>\n      <td>e</td>\n      <td>2</td>\n      <td>2</td>\n      <td>2</td>\n      <td>7</td>\n      <td>7</td>\n      <td>p</td>\n      <td>2</td>\n      <td>1</td>\n      <td>4</td>\n      <td>2</td>\n      <td>s</td>\n      <td>m</td>\n    </tr>\n  </tbody>\n</table>\n</div>"
     },
     "metadata": {}
    }
   ]
  },
  {
   "cell_type": "markdown",
   "source": "## **FEATURE SELECTION**",
   "metadata": {
    "id": "uYPX17VI24Qb",
    "cell_id": "00005-859ab8d8-2de9-4694-a541-8b1dceafb89f",
    "deepnote_cell_type": "markdown"
   }
  },
  {
   "cell_type": "code",
   "metadata": {
    "id": "TD23IGiNERGV",
    "colab": {
     "base_uri": "https://localhost:8080/"
    },
    "outputId": "d693a7cb-6ecf-4e33-9ff6-39fecb9e36de",
    "deepnote_to_be_reexecuted": false,
    "source_hash": "ff69eecf",
    "execution_start": 1635359715515,
    "execution_millis": 5052,
    "cell_id": "00006-15443a18-5012-4c70-a49c-5a79ba4933ea",
    "deepnote_cell_type": "code"
   },
   "source": "for index, i in enumerate(df['cap-shape']):\n    if (i == \"b\"):\n        df['cap-shape'][index] = 1\n    elif (i == \"c\"):\n        df['cap-shape'][index] = 2\n    elif (i == \"x\"):\n        df['cap-shape'][index] = 3\n    elif (i == \"f\"):\n        df['cap-shape'][index] = 4\n    elif (i == \"k\"):\n        df['cap-shape'][index] = 5\n    elif (i == \"s\"):\n        df['cap-shape'][index] = 6",
   "execution_count": 4,
   "outputs": [
    {
     "name": "stderr",
     "text": "/shared-libs/python3.7/py-core/lib/python3.7/site-packages/ipykernel_launcher.py:7: SettingWithCopyWarning: \nA value is trying to be set on a copy of a slice from a DataFrame\n\nSee the caveats in the documentation: https://pandas.pydata.org/pandas-docs/stable/user_guide/indexing.html#returning-a-view-versus-a-copy\n  import sys\n/shared-libs/python3.7/py-core/lib/python3.7/site-packages/ipykernel_launcher.py:3: SettingWithCopyWarning: \nA value is trying to be set on a copy of a slice from a DataFrame\n\nSee the caveats in the documentation: https://pandas.pydata.org/pandas-docs/stable/user_guide/indexing.html#returning-a-view-versus-a-copy\n  This is separate from the ipykernel package so we can avoid doing imports until\n/shared-libs/python3.7/py-core/lib/python3.7/site-packages/ipykernel_launcher.py:13: SettingWithCopyWarning: \nA value is trying to be set on a copy of a slice from a DataFrame\n\nSee the caveats in the documentation: https://pandas.pydata.org/pandas-docs/stable/user_guide/indexing.html#returning-a-view-versus-a-copy\n  del sys.path[0]\n/shared-libs/python3.7/py-core/lib/python3.7/site-packages/ipykernel_launcher.py:9: SettingWithCopyWarning: \nA value is trying to be set on a copy of a slice from a DataFrame\n\nSee the caveats in the documentation: https://pandas.pydata.org/pandas-docs/stable/user_guide/indexing.html#returning-a-view-versus-a-copy\n  if __name__ == '__main__':\n/shared-libs/python3.7/py-core/lib/python3.7/site-packages/ipykernel_launcher.py:11: SettingWithCopyWarning: \nA value is trying to be set on a copy of a slice from a DataFrame\n\nSee the caveats in the documentation: https://pandas.pydata.org/pandas-docs/stable/user_guide/indexing.html#returning-a-view-versus-a-copy\n  # This is added back by InteractiveShellApp.init_path()\n/shared-libs/python3.7/py-core/lib/python3.7/site-packages/ipykernel_launcher.py:5: SettingWithCopyWarning: \nA value is trying to be set on a copy of a slice from a DataFrame\n\nSee the caveats in the documentation: https://pandas.pydata.org/pandas-docs/stable/user_guide/indexing.html#returning-a-view-versus-a-copy\n  \"\"\"\n",
     "output_type": "stream"
    }
   ]
  },
  {
   "cell_type": "code",
   "metadata": {
    "id": "XZjifx3d6vDN",
    "colab": {
     "base_uri": "https://localhost:8080/"
    },
    "outputId": "6a673da0-499e-40e4-f33e-7fca9add7c21",
    "deepnote_to_be_reexecuted": false,
    "source_hash": "73c5b4c2",
    "execution_start": 1635359720595,
    "execution_millis": 6599,
    "cell_id": "00007-ec242df6-da1f-4469-a48a-00fee11f5db9",
    "deepnote_cell_type": "code"
   },
   "source": "for index, i in enumerate(df['odor']):\n    if (i == \"a\"):\n        df['odor'][index] = 1\n    elif (i == \"l\"):\n        df['odor'][index] = 2\n    elif (i == \"c\"):\n        df['odor'][index] = 3\n    elif (i == \"y\"):\n        df['odor'][index] = 4\n    elif (i == \"f\"):\n        df['odor'][index] = 5\n    elif (i == \"m\"):\n        df['odor'][index] = 6\n    elif (i == \"n\"):\n        df['odor'][index] = 7\n    elif (i == \"p\"):\n        df['odor'][index] = 8\n    elif (i == \"s\"):\n        df['odor'][index] = 9",
   "execution_count": 5,
   "outputs": [
    {
     "name": "stderr",
     "text": "/shared-libs/python3.7/py-core/lib/python3.7/site-packages/ipykernel_launcher.py:17: SettingWithCopyWarning: \nA value is trying to be set on a copy of a slice from a DataFrame\n\nSee the caveats in the documentation: https://pandas.pydata.org/pandas-docs/stable/user_guide/indexing.html#returning-a-view-versus-a-copy\n/shared-libs/python3.7/py-core/lib/python3.7/site-packages/ipykernel_launcher.py:3: SettingWithCopyWarning: \nA value is trying to be set on a copy of a slice from a DataFrame\n\nSee the caveats in the documentation: https://pandas.pydata.org/pandas-docs/stable/user_guide/indexing.html#returning-a-view-versus-a-copy\n  This is separate from the ipykernel package so we can avoid doing imports until\n/shared-libs/python3.7/py-core/lib/python3.7/site-packages/ipykernel_launcher.py:5: SettingWithCopyWarning: \nA value is trying to be set on a copy of a slice from a DataFrame\n\nSee the caveats in the documentation: https://pandas.pydata.org/pandas-docs/stable/user_guide/indexing.html#returning-a-view-versus-a-copy\n  \"\"\"\n/shared-libs/python3.7/py-core/lib/python3.7/site-packages/ipykernel_launcher.py:15: SettingWithCopyWarning: \nA value is trying to be set on a copy of a slice from a DataFrame\n\nSee the caveats in the documentation: https://pandas.pydata.org/pandas-docs/stable/user_guide/indexing.html#returning-a-view-versus-a-copy\n  from ipykernel import kernelapp as app\n/shared-libs/python3.7/py-core/lib/python3.7/site-packages/ipykernel_launcher.py:11: SettingWithCopyWarning: \nA value is trying to be set on a copy of a slice from a DataFrame\n\nSee the caveats in the documentation: https://pandas.pydata.org/pandas-docs/stable/user_guide/indexing.html#returning-a-view-versus-a-copy\n  # This is added back by InteractiveShellApp.init_path()\n/shared-libs/python3.7/py-core/lib/python3.7/site-packages/ipykernel_launcher.py:7: SettingWithCopyWarning: \nA value is trying to be set on a copy of a slice from a DataFrame\n\nSee the caveats in the documentation: https://pandas.pydata.org/pandas-docs/stable/user_guide/indexing.html#returning-a-view-versus-a-copy\n  import sys\n/shared-libs/python3.7/py-core/lib/python3.7/site-packages/ipykernel_launcher.py:9: SettingWithCopyWarning: \nA value is trying to be set on a copy of a slice from a DataFrame\n\nSee the caveats in the documentation: https://pandas.pydata.org/pandas-docs/stable/user_guide/indexing.html#returning-a-view-versus-a-copy\n  if __name__ == '__main__':\n/shared-libs/python3.7/py-core/lib/python3.7/site-packages/ipykernel_launcher.py:19: SettingWithCopyWarning: \nA value is trying to be set on a copy of a slice from a DataFrame\n\nSee the caveats in the documentation: https://pandas.pydata.org/pandas-docs/stable/user_guide/indexing.html#returning-a-view-versus-a-copy\n/shared-libs/python3.7/py-core/lib/python3.7/site-packages/ipykernel_launcher.py:13: SettingWithCopyWarning: \nA value is trying to be set on a copy of a slice from a DataFrame\n\nSee the caveats in the documentation: https://pandas.pydata.org/pandas-docs/stable/user_guide/indexing.html#returning-a-view-versus-a-copy\n  del sys.path[0]\n",
     "output_type": "stream"
    }
   ]
  },
  {
   "cell_type": "code",
   "metadata": {
    "id": "n8NrCdZ69sBC",
    "colab": {
     "base_uri": "https://localhost:8080/"
    },
    "outputId": "eba4e25d-b599-45c0-fdd9-d3a97228217b",
    "deepnote_to_be_reexecuted": false,
    "source_hash": "93073943",
    "execution_start": 1635359727229,
    "execution_millis": 5120,
    "cell_id": "00008-1a7aa00c-c11c-4c24-a14a-deb75afdf366",
    "deepnote_cell_type": "code"
   },
   "source": "for index, i in enumerate(df['habitat']):\n    if (i == \"g\"):\n        df['habitat'][index] = 1\n    elif (i == \"l\"):\n        df['habitat'][index] = 2\n    elif (i == \"m\"):\n        df['habitat'][index] = 3\n    elif (i == \"p\"):\n        df['habitat'][index] = 4\n    elif (i == \"u\"):\n        df['habitat'][index] = 5\n    elif (i == \"w\"):\n        df['habitat'][index] = 6\n    elif (i == \"d\"):\n        df['habitat'][index] = 7",
   "execution_count": 6,
   "outputs": [
    {
     "name": "stderr",
     "text": "/shared-libs/python3.7/py-core/lib/python3.7/site-packages/ipykernel_launcher.py:11: SettingWithCopyWarning: \nA value is trying to be set on a copy of a slice from a DataFrame\n\nSee the caveats in the documentation: https://pandas.pydata.org/pandas-docs/stable/user_guide/indexing.html#returning-a-view-versus-a-copy\n  # This is added back by InteractiveShellApp.init_path()\n/shared-libs/python3.7/py-core/lib/python3.7/site-packages/ipykernel_launcher.py:3: SettingWithCopyWarning: \nA value is trying to be set on a copy of a slice from a DataFrame\n\nSee the caveats in the documentation: https://pandas.pydata.org/pandas-docs/stable/user_guide/indexing.html#returning-a-view-versus-a-copy\n  This is separate from the ipykernel package so we can avoid doing imports until\n/shared-libs/python3.7/py-core/lib/python3.7/site-packages/ipykernel_launcher.py:7: SettingWithCopyWarning: \nA value is trying to be set on a copy of a slice from a DataFrame\n\nSee the caveats in the documentation: https://pandas.pydata.org/pandas-docs/stable/user_guide/indexing.html#returning-a-view-versus-a-copy\n  import sys\n/shared-libs/python3.7/py-core/lib/python3.7/site-packages/ipykernel_launcher.py:15: SettingWithCopyWarning: \nA value is trying to be set on a copy of a slice from a DataFrame\n\nSee the caveats in the documentation: https://pandas.pydata.org/pandas-docs/stable/user_guide/indexing.html#returning-a-view-versus-a-copy\n  from ipykernel import kernelapp as app\n/shared-libs/python3.7/py-core/lib/python3.7/site-packages/ipykernel_launcher.py:9: SettingWithCopyWarning: \nA value is trying to be set on a copy of a slice from a DataFrame\n\nSee the caveats in the documentation: https://pandas.pydata.org/pandas-docs/stable/user_guide/indexing.html#returning-a-view-versus-a-copy\n  if __name__ == '__main__':\n/shared-libs/python3.7/py-core/lib/python3.7/site-packages/ipykernel_launcher.py:13: SettingWithCopyWarning: \nA value is trying to be set on a copy of a slice from a DataFrame\n\nSee the caveats in the documentation: https://pandas.pydata.org/pandas-docs/stable/user_guide/indexing.html#returning-a-view-versus-a-copy\n  del sys.path[0]\n/shared-libs/python3.7/py-core/lib/python3.7/site-packages/ipykernel_launcher.py:5: SettingWithCopyWarning: \nA value is trying to be set on a copy of a slice from a DataFrame\n\nSee the caveats in the documentation: https://pandas.pydata.org/pandas-docs/stable/user_guide/indexing.html#returning-a-view-versus-a-copy\n  \"\"\"\n",
     "output_type": "stream"
    }
   ]
  },
  {
   "cell_type": "code",
   "metadata": {
    "colab": {
     "base_uri": "https://localhost:8080/",
     "height": 237
    },
    "id": "jsKCYPOB_lDt",
    "outputId": "f7273742-d018-46e4-fa06-749062ab710a",
    "deepnote_to_be_reexecuted": false,
    "source_hash": "9f07723a",
    "execution_start": 1635359732383,
    "execution_millis": 23,
    "cell_id": "00009-d9274c50-ff60-4dfc-8aeb-ed206248e866",
    "deepnote_cell_type": "code"
   },
   "source": "dataset = df[['class', 'cap-shape', 'cap-color', 'odor', 'stalk-color-above-ring', 'stalk-color-below-ring', 'veil-color', 'ring-number', 'habitat']]\ndataset.head()",
   "execution_count": 7,
   "outputs": [
    {
     "output_type": "execute_result",
     "execution_count": 7,
     "data": {
      "application/vnd.deepnote.dataframe.v2+json": {
       "row_count": 5,
       "column_count": 9,
       "columns": [
        {
         "name": "class",
         "dtype": "object",
         "stats": {
          "unique_count": 2,
          "nan_count": 0,
          "categories": [
           {
            "name": "e",
            "count": 3
           },
           {
            "name": "p",
            "count": 2
           }
          ]
         }
        },
        {
         "name": "cap-shape",
         "dtype": "object",
         "stats": {
          "unique_count": 2,
          "nan_count": 0,
          "categories": [
           {
            "name": "3",
            "count": 4
           },
           {
            "name": "1",
            "count": 1
           }
          ]
         }
        },
        {
         "name": "cap-color",
         "dtype": "int64",
         "stats": {
          "unique_count": 4,
          "nan_count": 0,
          "min": "3",
          "max": "9",
          "histogram": [
           {
            "bin_start": 3,
            "bin_end": 3.6,
            "count": 1
           },
           {
            "bin_start": 3.6,
            "bin_end": 4.2,
            "count": 1
           },
           {
            "bin_start": 4.2,
            "bin_end": 4.8,
            "count": 0
           },
           {
            "bin_start": 4.8,
            "bin_end": 5.4,
            "count": 0
           },
           {
            "bin_start": 5.4,
            "bin_end": 6,
            "count": 0
           },
           {
            "bin_start": 6,
            "bin_end": 6.6,
            "count": 0
           },
           {
            "bin_start": 6.6,
            "bin_end": 7.2,
            "count": 0
           },
           {
            "bin_start": 7.2,
            "bin_end": 7.8,
            "count": 0
           },
           {
            "bin_start": 7.8,
            "bin_end": 8.399999999999999,
            "count": 2
           },
           {
            "bin_start": 8.399999999999999,
            "bin_end": 9,
            "count": 1
           }
          ]
         }
        },
        {
         "name": "odor",
         "dtype": "object",
         "stats": {
          "unique_count": 4,
          "nan_count": 0,
          "categories": [
           {
            "name": "8",
            "count": 2
           },
           {
            "name": "1",
            "count": 1
           },
           {
            "name": "2 others",
            "count": 2
           }
          ]
         }
        },
        {
         "name": "stalk-color-above-ring",
         "dtype": "int64",
         "stats": {
          "unique_count": 1,
          "nan_count": 0,
          "min": "7",
          "max": "7",
          "histogram": [
           {
            "bin_start": 6.5,
            "bin_end": 6.6,
            "count": 0
           },
           {
            "bin_start": 6.6,
            "bin_end": 6.7,
            "count": 0
           },
           {
            "bin_start": 6.7,
            "bin_end": 6.8,
            "count": 0
           },
           {
            "bin_start": 6.8,
            "bin_end": 6.9,
            "count": 0
           },
           {
            "bin_start": 6.9,
            "bin_end": 7,
            "count": 0
           },
           {
            "bin_start": 7,
            "bin_end": 7.1,
            "count": 5
           },
           {
            "bin_start": 7.1,
            "bin_end": 7.2,
            "count": 0
           },
           {
            "bin_start": 7.2,
            "bin_end": 7.3,
            "count": 0
           },
           {
            "bin_start": 7.3,
            "bin_end": 7.4,
            "count": 0
           },
           {
            "bin_start": 7.4,
            "bin_end": 7.5,
            "count": 0
           }
          ]
         }
        },
        {
         "name": "stalk-color-below-ring",
         "dtype": "int64",
         "stats": {
          "unique_count": 1,
          "nan_count": 0,
          "min": "7",
          "max": "7",
          "histogram": [
           {
            "bin_start": 6.5,
            "bin_end": 6.6,
            "count": 0
           },
           {
            "bin_start": 6.6,
            "bin_end": 6.7,
            "count": 0
           },
           {
            "bin_start": 6.7,
            "bin_end": 6.8,
            "count": 0
           },
           {
            "bin_start": 6.8,
            "bin_end": 6.9,
            "count": 0
           },
           {
            "bin_start": 6.9,
            "bin_end": 7,
            "count": 0
           },
           {
            "bin_start": 7,
            "bin_end": 7.1,
            "count": 5
           },
           {
            "bin_start": 7.1,
            "bin_end": 7.2,
            "count": 0
           },
           {
            "bin_start": 7.2,
            "bin_end": 7.3,
            "count": 0
           },
           {
            "bin_start": 7.3,
            "bin_end": 7.4,
            "count": 0
           },
           {
            "bin_start": 7.4,
            "bin_end": 7.5,
            "count": 0
           }
          ]
         }
        },
        {
         "name": "veil-color",
         "dtype": "int64",
         "stats": {
          "unique_count": 1,
          "nan_count": 0,
          "min": "2",
          "max": "2",
          "histogram": [
           {
            "bin_start": 1.5,
            "bin_end": 1.6,
            "count": 0
           },
           {
            "bin_start": 1.6,
            "bin_end": 1.7,
            "count": 0
           },
           {
            "bin_start": 1.7,
            "bin_end": 1.8,
            "count": 0
           },
           {
            "bin_start": 1.8,
            "bin_end": 1.9,
            "count": 0
           },
           {
            "bin_start": 1.9,
            "bin_end": 2,
            "count": 0
           },
           {
            "bin_start": 2,
            "bin_end": 2.1,
            "count": 5
           },
           {
            "bin_start": 2.1,
            "bin_end": 2.2,
            "count": 0
           },
           {
            "bin_start": 2.2,
            "bin_end": 2.3,
            "count": 0
           },
           {
            "bin_start": 2.3,
            "bin_end": 2.4,
            "count": 0
           },
           {
            "bin_start": 2.4,
            "bin_end": 2.5,
            "count": 0
           }
          ]
         }
        },
        {
         "name": "ring-number",
         "dtype": "int64",
         "stats": {
          "unique_count": 1,
          "nan_count": 0,
          "min": "1",
          "max": "1",
          "histogram": [
           {
            "bin_start": 0.5,
            "bin_end": 0.6,
            "count": 0
           },
           {
            "bin_start": 0.6,
            "bin_end": 0.7,
            "count": 0
           },
           {
            "bin_start": 0.7,
            "bin_end": 0.8,
            "count": 0
           },
           {
            "bin_start": 0.8,
            "bin_end": 0.9,
            "count": 0
           },
           {
            "bin_start": 0.9,
            "bin_end": 1,
            "count": 0
           },
           {
            "bin_start": 1,
            "bin_end": 1.1,
            "count": 5
           },
           {
            "bin_start": 1.1,
            "bin_end": 1.2000000000000002,
            "count": 0
           },
           {
            "bin_start": 1.2000000000000002,
            "bin_end": 1.3,
            "count": 0
           },
           {
            "bin_start": 1.3,
            "bin_end": 1.4,
            "count": 0
           },
           {
            "bin_start": 1.4,
            "bin_end": 1.5,
            "count": 0
           }
          ]
         }
        },
        {
         "name": "habitat",
         "dtype": "object",
         "stats": {
          "unique_count": 3,
          "nan_count": 0,
          "categories": [
           {
            "name": "5",
            "count": 2
           },
           {
            "name": "1",
            "count": 2
           },
           {
            "name": "3",
            "count": 1
           }
          ]
         }
        },
        {
         "name": "_deepnote_index_column",
         "dtype": "int64"
        }
       ],
       "rows_top": [
        {
         "class": "p",
         "cap-shape": "3",
         "cap-color": 4,
         "odor": "8",
         "stalk-color-above-ring": 7,
         "stalk-color-below-ring": 7,
         "veil-color": 2,
         "ring-number": 1,
         "habitat": "5",
         "_deepnote_index_column": 0
        },
        {
         "class": "e",
         "cap-shape": "3",
         "cap-color": 9,
         "odor": "1",
         "stalk-color-above-ring": 7,
         "stalk-color-below-ring": 7,
         "veil-color": 2,
         "ring-number": 1,
         "habitat": "1",
         "_deepnote_index_column": 1
        },
        {
         "class": "e",
         "cap-shape": "1",
         "cap-color": 8,
         "odor": "2",
         "stalk-color-above-ring": 7,
         "stalk-color-below-ring": 7,
         "veil-color": 2,
         "ring-number": 1,
         "habitat": "3",
         "_deepnote_index_column": 2
        },
        {
         "class": "p",
         "cap-shape": "3",
         "cap-color": 8,
         "odor": "8",
         "stalk-color-above-ring": 7,
         "stalk-color-below-ring": 7,
         "veil-color": 2,
         "ring-number": 1,
         "habitat": "5",
         "_deepnote_index_column": 3
        },
        {
         "class": "e",
         "cap-shape": "3",
         "cap-color": 3,
         "odor": "7",
         "stalk-color-above-ring": 7,
         "stalk-color-below-ring": 7,
         "veil-color": 2,
         "ring-number": 1,
         "habitat": "1",
         "_deepnote_index_column": 4
        }
       ],
       "rows_bottom": null
      },
      "text/plain": "  class cap-shape  cap-color odor  stalk-color-above-ring  \\\n0     p         3          4    8                       7   \n1     e         3          9    1                       7   \n2     e         1          8    2                       7   \n3     p         3          8    8                       7   \n4     e         3          3    7                       7   \n\n   stalk-color-below-ring  veil-color  ring-number habitat  \n0                       7           2            1       5  \n1                       7           2            1       1  \n2                       7           2            1       3  \n3                       7           2            1       5  \n4                       7           2            1       1  ",
      "text/html": "<div>\n<style scoped>\n    .dataframe tbody tr th:only-of-type {\n        vertical-align: middle;\n    }\n\n    .dataframe tbody tr th {\n        vertical-align: top;\n    }\n\n    .dataframe thead th {\n        text-align: right;\n    }\n</style>\n<table border=\"1\" class=\"dataframe\">\n  <thead>\n    <tr style=\"text-align: right;\">\n      <th></th>\n      <th>class</th>\n      <th>cap-shape</th>\n      <th>cap-color</th>\n      <th>odor</th>\n      <th>stalk-color-above-ring</th>\n      <th>stalk-color-below-ring</th>\n      <th>veil-color</th>\n      <th>ring-number</th>\n      <th>habitat</th>\n    </tr>\n  </thead>\n  <tbody>\n    <tr>\n      <th>0</th>\n      <td>p</td>\n      <td>3</td>\n      <td>4</td>\n      <td>8</td>\n      <td>7</td>\n      <td>7</td>\n      <td>2</td>\n      <td>1</td>\n      <td>5</td>\n    </tr>\n    <tr>\n      <th>1</th>\n      <td>e</td>\n      <td>3</td>\n      <td>9</td>\n      <td>1</td>\n      <td>7</td>\n      <td>7</td>\n      <td>2</td>\n      <td>1</td>\n      <td>1</td>\n    </tr>\n    <tr>\n      <th>2</th>\n      <td>e</td>\n      <td>1</td>\n      <td>8</td>\n      <td>2</td>\n      <td>7</td>\n      <td>7</td>\n      <td>2</td>\n      <td>1</td>\n      <td>3</td>\n    </tr>\n    <tr>\n      <th>3</th>\n      <td>p</td>\n      <td>3</td>\n      <td>8</td>\n      <td>8</td>\n      <td>7</td>\n      <td>7</td>\n      <td>2</td>\n      <td>1</td>\n      <td>5</td>\n    </tr>\n    <tr>\n      <th>4</th>\n      <td>e</td>\n      <td>3</td>\n      <td>3</td>\n      <td>7</td>\n      <td>7</td>\n      <td>7</td>\n      <td>2</td>\n      <td>1</td>\n      <td>1</td>\n    </tr>\n  </tbody>\n</table>\n</div>"
     },
     "metadata": {}
    }
   ]
  },
  {
   "cell_type": "code",
   "metadata": {
    "colab": {
     "base_uri": "https://localhost:8080/"
    },
    "id": "bP1RQioBE17U",
    "outputId": "48ad3738-1894-4bd8-d73c-1205d490edeb",
    "deepnote_to_be_reexecuted": false,
    "source_hash": "6fcd22d4",
    "execution_start": 1635359732416,
    "execution_millis": 23,
    "cell_id": "00010-a35fd26f-b336-4b58-abd9-f6602a2cfc38",
    "deepnote_cell_type": "code"
   },
   "source": "# Mengecek null value, jika ada maka akan diisi menggunakan fillna\n\ndataset = dataset.fillna(dataset.mean())\ndataset.isnull().sum()",
   "execution_count": 8,
   "outputs": [
    {
     "output_type": "execute_result",
     "execution_count": 8,
     "data": {
      "text/plain": "class                     0\ncap-shape                 0\ncap-color                 0\nodor                      0\nstalk-color-above-ring    0\nstalk-color-below-ring    0\nveil-color                0\nring-number               0\nhabitat                   0\ndtype: int64"
     },
     "metadata": {}
    }
   ]
  },
  {
   "cell_type": "code",
   "metadata": {
    "id": "HOaTMXbqFefm",
    "colab": {
     "base_uri": "https://localhost:8080/"
    },
    "outputId": "037a0a8f-87b9-4f97-d0a5-1ecd6a636db3",
    "deepnote_to_be_reexecuted": false,
    "source_hash": "fc0f3eab",
    "execution_start": 1635359732447,
    "execution_millis": 8,
    "cell_id": "00011-17a8f779-facb-425b-8fa9-8843706238b1",
    "deepnote_cell_type": "code"
   },
   "source": "dataset.isnull().values.sum()",
   "execution_count": 9,
   "outputs": [
    {
     "output_type": "execute_result",
     "execution_count": 9,
     "data": {
      "text/plain": "0"
     },
     "metadata": {}
    }
   ]
  },
  {
   "cell_type": "markdown",
   "source": "## **DEFINE FEATURES**",
   "metadata": {
    "tags": [],
    "cell_id": "00012-df243226-6761-42c5-80ed-72ac4f4d76e7",
    "deepnote_cell_type": "markdown"
   }
  },
  {
   "cell_type": "code",
   "metadata": {
    "id": "-7TJJo1bNhsg",
    "deepnote_to_be_reexecuted": false,
    "source_hash": "c0b7a101",
    "execution_start": 1635359732458,
    "execution_millis": 3,
    "cell_id": "00013-f3578336-607d-4f0a-b1f5-a4428b98057b",
    "deepnote_cell_type": "code"
   },
   "source": "x = dataset.drop(['class'], axis = 1)\ny = dataset['class'].values.reshape(-1, 1)",
   "execution_count": 10,
   "outputs": []
  },
  {
   "cell_type": "markdown",
   "source": "## **FEATURE SELECTION USING PCA**",
   "metadata": {
    "tags": [],
    "cell_id": "00016-ebfc4cb3-d7ff-4f91-a425-cdef8c3c3bad",
    "deepnote_cell_type": "markdown"
   }
  },
  {
   "cell_type": "code",
   "metadata": {
    "tags": [],
    "deepnote_to_be_reexecuted": false,
    "source_hash": "7daf4fa3",
    "execution_start": 1635359732510,
    "execution_millis": 40,
    "cell_id": "00017-4721cfc7-450f-4ea7-a7c0-d073256acb19",
    "deepnote_cell_type": "code"
   },
   "source": "from sklearn.decomposition import PCA",
   "execution_count": 11,
   "outputs": []
  },
  {
   "cell_type": "code",
   "metadata": {
    "tags": [],
    "deepnote_to_be_reexecuted": false,
    "source_hash": "6222519",
    "execution_start": 1635359732550,
    "execution_millis": 1,
    "cell_id": "00018-32783da0-21af-4419-9fe7-e5f472db1b3d",
    "deepnote_cell_type": "code"
   },
   "source": "def normalize_dataset(dataset,mean):\n  return dataset - mean",
   "execution_count": 12,
   "outputs": []
  },
  {
   "cell_type": "code",
   "metadata": {
    "tags": [],
    "deepnote_to_be_reexecuted": false,
    "source_hash": "47f2deb0",
    "execution_start": 1635359732551,
    "execution_millis": 0,
    "cell_id": "00019-fe2f4c1c-1fb2-4716-9e26-ca1299c42b38",
    "deepnote_cell_type": "code"
   },
   "source": "def calculate_mean(dataset):\n    return tf.reduce_mean(dataset, axis=0)",
   "execution_count": 13,
   "outputs": []
  },
  {
   "cell_type": "code",
   "metadata": {
    "tags": [],
    "deepnote_to_be_reexecuted": false,
    "source_hash": "dbb69830",
    "execution_start": 1635359732552,
    "execution_millis": 2,
    "cell_id": "00020-b122a1c1-f96d-4561-8a3b-d9569b1153ef",
    "deepnote_cell_type": "code"
   },
   "source": "def apply_pca(normalize_dataset):\n    pca = PCA(n_components = 4)\n    pca = pca.fit(normalize_dataset)\n    return pca.transform(normalize_dataset)",
   "execution_count": 14,
   "outputs": []
  },
  {
   "cell_type": "code",
   "metadata": {
    "tags": [],
    "deepnote_to_be_reexecuted": false,
    "source_hash": "25e712ff",
    "execution_start": 1635359732598,
    "execution_millis": 1,
    "cell_id": "00021-feb86916-a5e4-4cbf-8162-5bcfdd24723f",
    "deepnote_cell_type": "code"
   },
   "source": "dx = x.to_numpy()\ndx.shape",
   "execution_count": 15,
   "outputs": [
    {
     "output_type": "execute_result",
     "execution_count": 15,
     "data": {
      "text/plain": "(8124, 8)"
     },
     "metadata": {}
    }
   ]
  },
  {
   "cell_type": "code",
   "metadata": {
    "tags": [],
    "deepnote_to_be_reexecuted": false,
    "source_hash": "db1c4ee7",
    "execution_start": 1635359732599,
    "execution_millis": 3,
    "cell_id": "00023-9ecf72cc-e5dd-4d40-a4e6-d3ecfc81656d",
    "deepnote_cell_type": "code"
   },
   "source": "mean = calculate_mean(dx)\ndx = normalize_dataset(dx, mean)",
   "execution_count": 16,
   "outputs": []
  },
  {
   "cell_type": "code",
   "metadata": {
    "tags": [],
    "deepnote_to_be_reexecuted": false,
    "source_hash": "aaedddd2",
    "execution_start": 1635359732600,
    "execution_millis": 88,
    "cell_id": "00024-2f2ac471-d74c-42c9-9a77-0aebe356e52c",
    "deepnote_cell_type": "code"
   },
   "source": "with tf.Session() as sess:\n    dx = sess.run(dx)\n    result = apply_pca(dx)\n    print(result)",
   "execution_count": 17,
   "outputs": [
    {
     "name": "stdout",
     "text": "[[-1.12187816 -1.69086742 -0.81999425 -1.88364993]\n [ 7.05826793  1.03318879 -1.43961859  1.88020186]\n [ 5.01336195  1.19414658 -2.31075667  1.35858275]\n ...\n [ 0.28078336 -0.7782554   2.72402775 -0.26989508]\n [ 1.9035913  -1.94177923 -0.12803779  1.79110369]\n [ 0.37347162 -0.7404559   2.6807996  -0.22899736]]\n",
     "output_type": "stream"
    }
   ]
  },
  {
   "cell_type": "markdown",
   "source": "## SPLIT DATASET",
   "metadata": {
    "tags": [],
    "cell_id": "00025-7eb8373e-2798-4683-8ebe-c1970db7fdc5",
    "is_collapsed": false,
    "deepnote_cell_type": "text-cell-h2"
   }
  },
  {
   "cell_type": "code",
   "metadata": {
    "tags": [],
    "deepnote_to_be_reexecuted": false,
    "source_hash": "2f85c2b9",
    "execution_start": 1635359732686,
    "execution_millis": 1,
    "cell_id": "00028-c56e13a4-1969-4dff-a1e5-e7ed953e4d6a",
    "deepnote_cell_type": "code"
   },
   "source": "# Split dataset:\n\nn_train = int(len(dataset) * 0.7)\nn_test = int(len(dataset) * 0.2)\n# train_dataset = dataset[:n_train] # train\n# test_dataset = dataset[n_train:(n_train + n_test)] # test/validation\n# eval_dataset = dataset[n_test:] # evaluation",
   "execution_count": 18,
   "outputs": []
  },
  {
   "cell_type": "code",
   "metadata": {
    "tags": [],
    "deepnote_to_be_reexecuted": false,
    "source_hash": "28942a66",
    "execution_start": 1635359732687,
    "execution_millis": 0,
    "cell_id": "00029-dcb14011-bb7d-48b1-8d48-68a2e55355a5",
    "deepnote_cell_type": "code"
   },
   "source": "x_train = result[:n_train, :] \ny_train = dataset.iloc[:n_train, 0].values.reshape(-1, 1)\nx_test = result[n_train:(n_train + n_test)]\ny_test = dataset.iloc[n_train:(n_train + n_test), 0].values.reshape(-1, 1)\nx_val = result[n_test:]\ny_val = dataset.iloc[n_test:, 0].values.reshape(-1, 1)",
   "execution_count": 19,
   "outputs": []
  },
  {
   "cell_type": "code",
   "metadata": {
    "tags": [],
    "deepnote_to_be_reexecuted": false,
    "source_hash": "4b132ebe",
    "execution_start": 1635359732735,
    "execution_millis": 0,
    "cell_id": "00030-6e4fc2bb-88c7-46e2-a8f2-a0ee27068731",
    "deepnote_cell_type": "code"
   },
   "source": "encoder = OneHotEncoder().fit(y_train)\ny_train = encoder.transform(y_train).toarray()\ny_test = encoder.transform(y_test).toarray()\ny_val = encoder.transform(y_val).toarray()",
   "execution_count": 20,
   "outputs": []
  },
  {
   "cell_type": "code",
   "metadata": {
    "tags": [],
    "cell_id": "00029-452851fb-5da9-4859-9365-7913e7526eaf",
    "deepnote_to_be_reexecuted": false,
    "source_hash": "9cd47083",
    "execution_start": 1635359732735,
    "execution_millis": 8,
    "deepnote_cell_type": "code"
   },
   "source": "y_train.shape",
   "execution_count": 21,
   "outputs": [
    {
     "output_type": "execute_result",
     "execution_count": 21,
     "data": {
      "text/plain": "(5686, 2)"
     },
     "metadata": {}
    }
   ]
  },
  {
   "cell_type": "markdown",
   "source": "## **TRAINING**",
   "metadata": {
    "tags": [],
    "cell_id": "00025-bd8a2955-eb5c-4991-9c46-bbde3c6de495",
    "deepnote_cell_type": "markdown"
   }
  },
  {
   "cell_type": "code",
   "metadata": {
    "tags": [],
    "cell_id": "00026-d43ce51a-c4ac-460d-b0fc-6bff3309476e",
    "deepnote_to_be_reexecuted": false,
    "source_hash": "66f7471",
    "execution_start": 1635359732750,
    "execution_millis": 9,
    "deepnote_cell_type": "code"
   },
   "source": "# Normalization using StandardScaler:\n\nscaler = StandardScaler().fit(x_train)\nx_train = scaler.transform(x_train)\nx_test = scaler.transform(x_test)\nx_val = scaler.transform(x_val)",
   "execution_count": 22,
   "outputs": []
  },
  {
   "cell_type": "code",
   "metadata": {
    "tags": [],
    "deepnote_to_be_reexecuted": false,
    "source_hash": "d82687f4",
    "execution_start": 1635359732766,
    "execution_millis": 7,
    "cell_id": "00026-385978c8-1816-4865-9a92-accc79e2ea6c",
    "deepnote_cell_type": "code"
   },
   "source": "# Variable Pembantu:\nepoch = 2500\nlearning_rate = 0.0001",
   "execution_count": 23,
   "outputs": []
  },
  {
   "cell_type": "code",
   "metadata": {
    "tags": [],
    "deepnote_to_be_reexecuted": false,
    "source_hash": "b6d78134",
    "execution_start": 1635359732819,
    "execution_millis": 1,
    "cell_id": "00035-109127c4-a666-4f26-a74b-153ed2b2ff98",
    "deepnote_cell_type": "code"
   },
   "source": "x_train, x_test, x_val = x_train.astype('float32'), x_test.astype('float32'), x_val.astype('float32')\ny_train, y_test, y_val = y_train.astype('float32'), y_test.astype('float32'), y_val.astype('float32')",
   "execution_count": 24,
   "outputs": []
  },
  {
   "cell_type": "code",
   "metadata": {
    "tags": [],
    "deepnote_to_be_reexecuted": false,
    "source_hash": "81690c20",
    "execution_start": 1635359732821,
    "execution_millis": 0,
    "cell_id": "00027-33e7b4f3-cbe3-41b4-9331-62ba55ad93fd",
    "deepnote_cell_type": "code"
   },
   "source": "# layer = {\n#     'input': 4,\n#     'hidden': 3,\n#     'output': 1\n# }",
   "execution_count": 25,
   "outputs": []
  },
  {
   "cell_type": "code",
   "metadata": {
    "tags": [],
    "cell_id": "00034-30ed16c1-cc34-433e-879a-74295aa6c8d2",
    "deepnote_to_be_reexecuted": false,
    "source_hash": "acecf152",
    "execution_start": 1635359732822,
    "execution_millis": 0,
    "deepnote_cell_type": "code"
   },
   "source": "n_features = x_train.shape[1]\nn_classes = y_train.shape[1]\nneurons = [n_features, 6, n_classes]\nn_layers = len(neurons)",
   "execution_count": 26,
   "outputs": []
  },
  {
   "cell_type": "code",
   "metadata": {
    "tags": [],
    "cell_id": "00034-04984227-2c01-40f0-8ca1-4b581ff51dd0",
    "deepnote_to_be_reexecuted": false,
    "source_hash": "29027729",
    "execution_start": 1635359732823,
    "execution_millis": 47,
    "deepnote_cell_type": "code"
   },
   "source": "parameters = {\n    'W1' : tf.Variable(\n        tf.random.normal([\n            n_features, neurons[0]\n        ]),\n        tf.float32\n    ),\n    'B1' : tf.Variable(\n        tf.random.normal([1,  neurons[0]]),\n        tf.float32\n    ),\n    'W2' : tf.Variable(\n        tf.random.normal([\n            neurons[0], neurons[1]\n        ]),\n        tf.float32\n    ),\n    'B2' : tf.Variable(\n        tf.random.normal([1,  neurons[1]]),\n        tf.float32\n    ),\n    'W3' : tf.Variable(\n        tf.random.normal([\n            neurons[1], neurons[2]\n        ]),\n        tf.float32\n    ),\n    'B3' : tf.Variable(\n        tf.random.normal([1,  neurons[2]]),\n        tf.float32\n    )\n}",
   "execution_count": 27,
   "outputs": []
  },
  {
   "cell_type": "code",
   "metadata": {
    "tags": [],
    "cell_id": "00034-26d2535d-3aa0-4ba2-8471-096b57c9c558",
    "deepnote_to_be_reexecuted": false,
    "source_hash": "df676aea",
    "execution_start": 1635359732918,
    "execution_millis": 0,
    "deepnote_cell_type": "code"
   },
   "source": "def forward_pass(x):\n  z1 = tf.matmul(x, parameters['W1']) + parameters['B1']\n  a1 = tf.nn.sigmoid(z1)\n\n  z2 = tf.matmul(a1, parameters['W2']) + parameters['B2']\n  a2 = tf.nn.sigmoid(z2)\n\n  z3 = tf.matmul(a2, parameters['W3']) + parameters['B3']\n  a3 = tf.nn.sigmoid(z3)\n\n  return a3",
   "execution_count": 28,
   "outputs": []
  },
  {
   "cell_type": "code",
   "metadata": {
    "tags": [],
    "deepnote_to_be_reexecuted": false,
    "source_hash": "71b3d5a5",
    "execution_start": 1635359732919,
    "execution_millis": 0,
    "cell_id": "00036-f746b261-20a5-4693-912b-889d9bad2001",
    "deepnote_cell_type": "code"
   },
   "source": "# Tensor Placeholder:\ninput_feature = tf.placeholder(tf.float32, name = 'feature')\ninput_target = tf.placeholder(tf.float32, name = 'target')",
   "execution_count": 29,
   "outputs": []
  },
  {
   "cell_type": "code",
   "metadata": {
    "tags": [],
    "deepnote_to_be_reexecuted": false,
    "source_hash": "4278daf",
    "execution_start": 1635359732920,
    "execution_millis": 161,
    "cell_id": "00038-c4af8e9a-bc5d-41a9-8f34-fd68e3e54905",
    "deepnote_cell_type": "code"
   },
   "source": "y = forward_pass(input_feature)\n# MSE Calculation\nloss = tf.reduce_mean(0.5 * (input_target - y) ** 2)\ntrain = tf.train.GradientDescentOptimizer(learning_rate).minimize(loss)\nsaver = tf.train.Saver()",
   "execution_count": 30,
   "outputs": [
    {
     "name": "stdout",
     "text": "WARNING:tensorflow:From /root/venv/lib/python3.7/site-packages/tensorflow_core/python/ops/math_grad.py:1375: where (from tensorflow.python.ops.array_ops) is deprecated and will be removed in a future version.\nInstructions for updating:\nUse tf.where in 2.0, which has the same broadcast rule as np.where\n",
     "output_type": "stream"
    }
   ]
  },
  {
   "cell_type": "code",
   "metadata": {
    "tags": [],
    "cell_id": "00038-3620aeba-7aa0-4b28-9e1c-289461f4cf9d",
    "deepnote_to_be_reexecuted": false,
    "source_hash": "c60767c0",
    "execution_start": 1635359733130,
    "execution_millis": 1,
    "deepnote_cell_type": "code"
   },
   "source": "true_pred = tf.equal(tf.argmax(y, axis=1), tf.argmax(input_target, axis=1))\nacc = tf.reduce_mean(tf.cast(true_pred, tf.float32))",
   "execution_count": 31,
   "outputs": []
  },
  {
   "cell_type": "code",
   "metadata": {
    "tags": [],
    "cell_id": "00042-1b11a3f2-c10e-41fd-b496-34b2713fc8b0",
    "deepnote_to_be_reexecuted": false,
    "source_hash": "af2a826d",
    "execution_start": 1635359733131,
    "execution_millis": 1,
    "deepnote_cell_type": "code"
   },
   "source": "num_epoch = 2500",
   "execution_count": 32,
   "outputs": []
  },
  {
   "cell_type": "code",
   "metadata": {
    "tags": [],
    "deepnote_to_be_reexecuted": false,
    "source_hash": "e2644b0e",
    "execution_start": 1635359733132,
    "execution_millis": 7828,
    "cell_id": "00042-a77db023-0870-4c94-992f-8befff03462b",
    "deepnote_cell_type": "code"
   },
   "source": "with tf.Session() as sess:\n    sess.run(tf.global_variables_initializer())\n\n    train_dict = {\n        input_feature: x_train,\n        input_target: y_train\n    }\n\n    test_dict = {\n        input_feature: x_test,\n        input_target: y_test\n    }\n\n    best_loss = float('inf')\n\n    for epoch in range(num_epoch):\n        # Update weight and bias, training the network:\n        sess.run(train, feed_dict = train_dict)\n\n        if epoch % 25 == 0:\n            print(f'Epoch {epoch}\\t| Loss: {sess.run(loss, feed_dict = train_dict)}')\n        elif epoch == 125: \n            # After reaching the 125th epoch, calculate validation error\n            val_loss = sess.run(loss, feed_dict = test_dict)\n            # Record the validation error and save the model to file\n            saver.save(sess, '/.best_model.ckpt')\n\n        elif epoch % 125 == 0:\n            if val_loss < best_loss:\n                best_loss = val_loss\n                saver.save(sess, '/.best_model.ckpt')\n    \n    saver.save(sess, './bpnn-model.ckpt')",
   "execution_count": null,
   "outputs": [
    {
     "name": "stdout",
     "text": "Epoch 0\t| Loss: 0.2070842981338501\nEpoch 25\t| Loss: 0.2070780247449875\nEpoch 50\t| Loss: 0.20707152783870697\nEpoch 75\t| Loss: 0.20706523954868317\nEpoch 100\t| Loss: 0.20705898106098175\nEpoch 125\t| Loss: 0.207052543759346\nEpoch 150\t| Loss: 0.2070462554693222\nEpoch 175\t| Loss: 0.20704005658626556\nEpoch 200\t| Loss: 0.2070336937904358\nEpoch 225\t| Loss: 0.2070273458957672\nEpoch 250\t| Loss: 0.20702093839645386\nEpoch 275\t| Loss: 0.20701444149017334\nEpoch 300\t| Loss: 0.2070080190896988\nEpoch 325\t| Loss: 0.20700183510780334\nEpoch 350\t| Loss: 0.20699544250965118\nEpoch 375\t| Loss: 0.20698904991149902\nEpoch 400\t| Loss: 0.2069825828075409\nEpoch 425\t| Loss: 0.2069765031337738\nEpoch 450\t| Loss: 0.20696993172168732\nEpoch 475\t| Loss: 0.206963449716568\nEpoch 500\t| Loss: 0.206957146525383\nEpoch 525\t| Loss: 0.20695097744464874\nEpoch 550\t| Loss: 0.20694459974765778\nEpoch 575\t| Loss: 0.20693807303905487\n",
     "output_type": "stream"
    }
   ]
  },
  {
   "cell_type": "markdown",
   "source": "## EVALUATION",
   "metadata": {
    "tags": [],
    "cell_id": "00040-463600f8-6777-4aae-8e60-19f5e01b2390",
    "is_collapsed": false,
    "deepnote_cell_type": "text-cell-h2"
   }
  },
  {
   "cell_type": "code",
   "metadata": {
    "tags": [],
    "deepnote_to_be_reexecuted": true,
    "source_hash": "193f9eb1",
    "cell_id": "00044-91211376-f2df-4a81-8bc9-305c1765192b",
    "execution_start": 1623853581340,
    "execution_millis": 64,
    "deepnote_cell_type": "code"
   },
   "source": "with tf.Session() as sess:\n    saver.restore(sess, './bpnn-model.ckpt')\n\n    val_dict = {\n        input_feature: x_val,\n        input_target: y_val\n    }\n\n    eval_acc = sess.run(acc, feed_dict = val_dict)\n    print(sess.run(loss, feed_dict = val_dict))\n    print(f\"Evaluation Accuracy: {eval_acc * 100}%\")",
   "execution_count": null,
   "outputs": [
    {
     "name": "stdout",
     "text": "INFO:tensorflow:Restoring parameters from ./bpnn-model.ckpt\n0.15647647\nEvaluation Accuracy: 57.27692246437073%\n",
     "output_type": "stream"
    }
   ]
  },
  {
   "cell_type": "markdown",
   "source": "<a style='text-decoration:none;line-height:16px;display:flex;color:#5B5B62;padding:10px;justify-content:end;' href='https://deepnote.com?utm_source=created-in-deepnote-cell&projectId=55039d84-69f2-422d-ba2a-a931d944300b' target=\"_blank\">\n<img alt='Created in deepnote.com' style='display:inline;max-height:16px;margin:0px;margin-right:7.5px;' src='data:image/svg+xml;base64,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' > </img>\nCreated in <span style='font-weight:600;margin-left:4px;'>Deepnote</span></a>",
   "metadata": {
    "tags": [],
    "created_in_deepnote_cell": true,
    "deepnote_cell_type": "markdown"
   }
  }
 ],
 "nbformat": 4,
 "nbformat_minor": 0,
 "metadata": {
  "colab": {
   "name": "[ANN Project LAB] No. 2 - Mushroom Classification",
   "provenance": [],
   "collapsed_sections": []
  },
  "kernelspec": {
   "name": "python3",
   "display_name": "Python 3"
  },
  "language_info": {
   "name": "python"
  },
  "deepnote_notebook_id": "0eb7fd1b-eebe-4cea-8a77-610726366aa0",
  "deepnote": {
   "is_reactive": false
  },
  "deepnote_execution_queue": [
   {
    "cellId": "00042-a77db023-0870-4c94-992f-8befff03462b",
    "sessionId": "6899c02e-e077-4d83-9af5-b911332e604d",
    "msgId": "cb6fbe39-afab-4980-822c-24854f41b489"
   },
   {
    "cellId": "00044-91211376-f2df-4a81-8bc9-305c1765192b",
    "sessionId": "6899c02e-e077-4d83-9af5-b911332e604d",
    "msgId": "0a916aa5-1a79-4618-aba8-478ebc857d99"
   }
  ]
 }
}